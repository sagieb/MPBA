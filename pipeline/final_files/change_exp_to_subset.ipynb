{
 "cells": [
  {
   "cell_type": "code",
   "execution_count": 38,
   "id": "14c0a6ce-3603-4b3a-9d30-b84f77767083",
   "metadata": {},
   "outputs": [],
   "source": [
    "import os\n",
    "import re\n"
   ]
  },
  {
   "cell_type": "code",
   "execution_count": 7,
   "id": "6841d70d-f66b-4208-8767-4c3e20c27337",
   "metadata": {},
   "outputs": [],
   "source": [
    "files = os.listdir('.')\n",
    "rel_files = [file for file in files if '.txt' in file]\n",
    "for file in rel_files:\n",
    "    newn = file.replace('exp','subset')\n",
    "    os.rename(file, newn)"
   ]
  },
  {
   "cell_type": "code",
   "execution_count": 63,
   "id": "3324538b-cea2-4b60-9392-ffd3d28a9ebd",
   "metadata": {},
   "outputs": [],
   "source": [
    "files = os.listdir('.')\n",
    "rel_files = [file for file in files if '.txt' in file]\n",
    "\n",
    "for curr_file in rel_files:\n",
    "    p,onum = curr_file.split('.')[-2].split('_')\n",
    "    new_p = p+'_'+str(int(onum)+27)\n",
    "    old_p = ('_').join(curr_file.split('.')[-2].split('_'))\n",
    "\n",
    "    newn = curr_file.replace(old_p,new_p)\n",
    "    os.rename(curr_file, newn)"
   ]
  },
  {
   "cell_type": "code",
   "execution_count": 36,
   "id": "604510b0-eabe-40ee-9571-a2c9ee0d70f1",
   "metadata": {},
   "outputs": [
    {
     "name": "stdout",
     "output_type": "stream",
     "text": [
      "['CCG', 'CCA', 'CAG', 'CAA', 'ACG', 'ACA', 'AAG', 'AAA']\n"
     ]
    }
   ],
   "source": [
    "import re\n",
    "import itertools\n",
    "\n",
    "def get_all_combinations(pattern):\n",
    "    char_combinations = re.findall(r'\\[([^]]+)\\]', pattern)  # Find all character combinations within square brackets\n",
    "    combinations = list(itertools.product(*char_combinations))  # Generate all combinations\n",
    "    combinations = [''.join(combo) for combo in combinations]  # Convert combinations to strings\n",
    "\n",
    "    return combinations\n",
    "\n",
    "# Example usage\n",
    "pattern = '[CA][CA][GA]'\n",
    "combinations = get_all_combinations(pattern)\n",
    "print(combinations)"
   ]
  }
 ],
 "metadata": {
  "kernelspec": {
   "display_name": "mp_py",
   "language": "python",
   "name": "mp_py"
  },
  "language_info": {
   "codemirror_mode": {
    "name": "ipython",
    "version": 3
   },
   "file_extension": ".py",
   "mimetype": "text/x-python",
   "name": "python",
   "nbconvert_exporter": "python",
   "pygments_lexer": "ipython3",
   "version": "3.8.3"
  }
 },
 "nbformat": 4,
 "nbformat_minor": 5
}
