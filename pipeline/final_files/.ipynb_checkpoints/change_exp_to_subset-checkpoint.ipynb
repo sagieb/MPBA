{
 "cells": [
  {
   "cell_type": "code",
   "execution_count": null,
   "id": "14c0a6ce-3603-4b3a-9d30-b84f77767083",
   "metadata": {},
   "outputs": [],
   "source": [
    "import os\n",
    "import re\n"
   ]
  },
  {
   "cell_type": "code",
   "execution_count": 7,
   "id": "6841d70d-f66b-4208-8767-4c3e20c27337",
   "metadata": {},
   "outputs": [],
   "source": [
    "files = os.listdir('.')\n",
    "rel_files = [file for file in files if '.txt' in file]\n",
    "for file in rel_files:\n",
    "    newn = file.replace('exp','subset')\n",
    "    os.rename(file, newn)"
   ]
  }
 ],
 "metadata": {
  "kernelspec": {
   "display_name": "mp_py",
   "language": "python",
   "name": "mp_py"
  },
  "language_info": {
   "codemirror_mode": {
    "name": "ipython",
    "version": 3
   },
   "file_extension": ".py",
   "mimetype": "text/x-python",
   "name": "python",
   "nbconvert_exporter": "python",
   "pygments_lexer": "ipython3",
   "version": "3.8.3"
  }
 },
 "nbformat": 4,
 "nbformat_minor": 5
}
